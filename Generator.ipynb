{
 "cells": [
  {
   "cell_type": "markdown",
   "id": "841cf772-5c23-461e-aa1e-e093e7d38b66",
   "metadata": {},
   "source": [
    "os.fsencode():\n",
    "\n",
    "is a method in Python’s OS module used to encode the specified filename to the filesystem encoding with the ‘surrogateescape’ error handler, or ‘strict’ on Windows. This method is essential when working with file paths containing arbitrary bytes, especially on Windows where NTFS file system only allows file paths that can be represented as UTF-16.\n",
    "\n",
    "\n",
    "In summary, os.fsencode() is essential when working with file paths containing arbitrary bytes, as it ensures correct encoding and representation on both Windows and non-Windows platforms, whereas pathlib provides a more comprehensive and platform-independent way of handling file paths."
   ]
  },
  {
   "cell_type": "markdown",
   "id": "7b2abb8a-c090-441d-8284-eb8ceb93b270",
   "metadata": {},
   "source": [
    "utf-16 vs utf-8:\n",
    "\n",
    "In summary, UTF-8 is a more compact and widely used encoding scheme for ASCII-based content, while UTF-16 is better suited for handling a wider range of Unicode characters and is commonly used in programming languages and operating systems."
   ]
  },
  {
   "cell_type": "code",
   "execution_count": 33,
   "id": "99c6256a-e2b5-433b-89a8-c4813112afca",
   "metadata": {},
   "outputs": [],
   "source": [
    "# Train_data\n",
    "import os \n",
    "directory = os.fsencode('20news-bydate-train')\n",
    "#print(train_directory)"
   ]
  },
  {
   "cell_type": "code",
   "execution_count": 34,
   "id": "40f26e6a-7f44-43b6-878a-a4a7d12a0c91",
   "metadata": {},
   "outputs": [],
   "source": [
    "#directory.decode()"
   ]
  },
  {
   "cell_type": "code",
   "execution_count": 35,
   "id": "a5ade14e-185e-40fa-9a62-7a8310864b76",
   "metadata": {},
   "outputs": [],
   "source": [
    "files = os.listdir(directory)\n",
    "files.sort()\n",
    "#print(files)"
   ]
  },
  {
   "cell_type": "code",
   "execution_count": 36,
   "id": "2d42326b-0b86-4f22-bff6-b0c10f374731",
   "metadata": {},
   "outputs": [],
   "source": [
    "docs = [] # a list of all documents in training set\n",
    "output_train = [] # a list of vectors(matrix) encoding category of each document(class_lable of each document)\n",
    "docs_total_num = 0 #total number of document in the train_set\n",
    "vector = [0]*20\n",
    "index = -1\n",
    "for file in files:\n",
    "    docs_num = 0 #number of documents per file\n",
    "    #print(file)\n",
    "    index += 1\n",
    "    vector[index] = 1\n",
    "    \n",
    "    for doc in os.listdir(directory + b'/' + file):\n",
    "        address = directory + b'/' + file + b'/' + doc\n",
    "        with open(address.decode('utf-8'), 'r', errors = 'ignore') as document:\n",
    "            docs.append(document.read()) #producing the list of all documents!\n",
    "            output_train.append(vector.copy()) \n",
    "        docs_num += 1\n",
    "        docs_total_num += 1\n",
    "    #print(docs_num)\n",
    "    #print(vector)\n",
    "    vector[index] = 0\n",
    "#print(f\"total number of documents : {docs_total_num}\")\n",
    "#output_train\n",
    "#docs[0]\n"
   ]
  },
  {
   "cell_type": "code",
   "execution_count": 37,
   "id": "1946417e-1f11-4373-8b7a-5925bbfaedd0",
   "metadata": {},
   "outputs": [
    {
     "name": "stdout",
     "output_type": "stream",
     "text": [
      "[1, 0, 0, 0, 0, 0, 0, 0, 0, 0, 0, 0, 0, 0, 0, 0, 0, 0, 0, 0]\n",
      "11314\n"
     ]
    }
   ],
   "source": [
    "print(output_train[0])\n",
    "print(len(output_train))"
   ]
  },
  {
   "cell_type": "markdown",
   "id": "e5cf5a56-191e-459f-82e4-b5d12cb29424",
   "metadata": {},
   "source": [
    "##### So far we have iterated through all documents in the training set and have stored them in a list and also have created lable vector for each one"
   ]
  },
  {
   "cell_type": "code",
   "execution_count": 38,
   "id": "7412673d-a776-4a5a-af81-9a4008bbcba7",
   "metadata": {},
   "outputs": [],
   "source": [
    "# number of words in a document\n",
    "#print(len(docs[1]))"
   ]
  },
  {
   "cell_type": "code",
   "execution_count": 39,
   "id": "8b6bafb4-5f84-4909-a028-3bc7a26f0981",
   "metadata": {},
   "outputs": [
    {
     "name": "stdout",
     "output_type": "stream",
     "text": [
      " zaphod.mps.ohio-state.edu!usc!elroy.jpl.nasa.gov!nntp-server.caltech.edu!juliet.caltech.edu!lmh\n",
      "Subject: Re: Americans and Evolution\n",
      "From: lmh@juliet.caltech.edu (Henling, Lawrence M.)\n",
      "Distribution: world,local\n",
      "Organization: California Institute of Technology\n",
      "NNTP-Posting-Host: juliet.caltech.edu\n",
      "News-Software: VAX/VMS VNEWS 1.41\n",
      "Lines: 18\n",
      "\n",
      "In article <1APR199313404295@skyblu.ccit.arizona.edu<, lippard@skyblu.ccit.arizona.edu (James J. Lippard) writes...\n",
      "<In article <31MAR199321091163@juliet.caltech.edu<, lmh@juliet.caltech.edu (Henling, Lawrence M.) writes...\n",
      "<<Atheism (Greek 'a' not + 'theos' god)  Belief that there is no god.\n",
      "<<Agnosticism (Greek 'a' not + ~ 'gnostein ?' know) Belief that it is\n",
      "<<  not possible to determine if there is a god.\n",
      "\n",
      "<No.  Agnosticism as you have here defined it is a positive belief--a\n",
      "<belief that it is not possible to determine the existence of any gods.\n",
      "<That's a belief I'm inclined to reject.  You have also defined atheism\n",
      "<here as a positive belief--that there is no god.  A fairly large number\n",
      "<of atheists on alt.atheism reject this definition, instead holding that\n",
      "<atheism is simply the absence of belief in a god.  Michael Martin, in\n",
      "<_Atheism: A Philosophical Justification_, distinguishes strong atheism\n",
      "\n",
      " My mistake. I will have to get a newer dictionary and read the \n",
      "follow up line.\n",
      "\n",
      "larry henling   lmh@shakes.caltech.edu\n",
      "\n"
     ]
    }
   ],
   "source": [
    "print(docs[0])"
   ]
  },
  {
   "cell_type": "markdown",
   "id": "58d43869-699f-41d2-a0af-ac9778b995f9",
   "metadata": {},
   "source": [
    "### Steps to clean the Data"
   ]
  },
  {
   "cell_type": "code",
   "execution_count": 40,
   "id": "a73e9cca-0cb4-4425-a1ed-0ab7e87f266a",
   "metadata": {},
   "outputs": [
    {
     "name": "stdout",
     "output_type": "stream",
     "text": [
      " zaphod.mps.ohio-state.edu!usc!elroy.jpl.nasa.gov!nntp-server.caltech.edu!juliet.caltech.edu!lmh Subject: Re: Americans and Evolution From: lmh@juliet.caltech.edu (Henling, Lawrence M.) Distribution: world,local Organization: California Institute of Technology NNTP-Posting-Host: juliet.caltech.edu News-Software: VAX/VMS VNEWS 1.41 Lines: 18  In article <1APR199313404295@skyblu.ccit.arizona.edu<, lippard@skyblu.ccit.arizona.edu (James J. Lippard) writes... <In article <31MAR199321091163@juliet.caltech.edu<, lmh@juliet.caltech.edu (Henling, Lawrence M.) writes... <<Atheism (Greek 'a' not + 'theos' god)  Belief that there is no god. <<Agnosticism (Greek 'a' not + ~ 'gnostein ?' know) Belief that it is <<  not possible to determine if there is a god.  <No.  Agnosticism as you have here defined it is a positive belief--a <belief that it is not possible to determine the existence of any gods. <That's a belief I'm inclined to reject.  You have also defined atheism <here as a positive belief--that there is no god.  A fairly large number <of atheists on alt.atheism reject this definition, instead holding that <atheism is simply the absence of belief in a god.  Michael Martin, in <_Atheism: A Philosophical Justification_, distinguishes strong atheism   My mistake. I will have to get a newer dictionary and read the  follow up line.  larry henling   lmh@shakes.caltech.edu \n"
     ]
    }
   ],
   "source": [
    "temp = []\n",
    "for text in docs:\n",
    "    text = text.replace('\\n',' ')\n",
    "    temp.append(text)\n",
    "\n",
    "print(temp[0])"
   ]
  },
  {
   "cell_type": "code",
   "execution_count": 25,
   "id": "ccaf08da-9f69-4772-86a7-7e3756a60991",
   "metadata": {},
   "outputs": [],
   "source": [
    "# number of words in a document\n",
    "#print(len(temp[1]))"
   ]
  },
  {
   "cell_type": "markdown",
   "id": "9bda1b14-8ea5-4835-b791-c4060f5ac273",
   "metadata": {},
   "source": [
    "##### noting is removed yet!!!"
   ]
  },
  {
   "cell_type": "markdown",
   "id": "12990847-12a1-41ab-bd6a-de83b140ccf9",
   "metadata": {},
   "source": [
    "### Remove Punctuations and Tokenuzation"
   ]
  },
  {
   "cell_type": "code",
   "execution_count": 41,
   "id": "e707e3d7-e05c-48a6-af93-0a03016a477e",
   "metadata": {},
   "outputs": [],
   "source": [
    "from tensorflow.keras.preprocessing import text\n",
    "docs2 = []\n",
    "for i in temp:\n",
    "    docs2.append(text.text_to_word_sequence(i))\n",
    "\n",
    "train_data = docs2"
   ]
  },
  {
   "cell_type": "code",
   "execution_count": 27,
   "id": "962be6cf-60a7-44d3-990c-4bb71295bc96",
   "metadata": {},
   "outputs": [
    {
     "name": "stdout",
     "output_type": "stream",
     "text": [
      "['zaphod', 'mps', 'ohio', 'state', 'edu', 'usc', 'elroy', 'jpl', 'nasa', 'gov', 'nntp', 'server', 'caltech', 'edu', 'juliet', 'caltech', 'edu', 'lmh', 'subject', 're', 'americans', 'and', 'evolution', 'from', 'lmh', 'juliet', 'caltech', 'edu', 'henling', 'lawrence', 'm', 'distribution', 'world', 'local', 'organization', 'california', 'institute', 'of', 'technology', 'nntp', 'posting', 'host', 'juliet', 'caltech', 'edu', 'news', 'software', 'vax', 'vms', 'vnews', '1', '41', 'lines', '18', 'in', 'article', '1apr199313404295', 'skyblu', 'ccit', 'arizona', 'edu', 'lippard', 'skyblu', 'ccit', 'arizona', 'edu', 'james', 'j', 'lippard', 'writes', 'in', 'article', '31mar199321091163', 'juliet', 'caltech', 'edu', 'lmh', 'juliet', 'caltech', 'edu', 'henling', 'lawrence', 'm', 'writes', 'atheism', 'greek', \"'a'\", 'not', \"'theos'\", 'god', 'belief', 'that', 'there', 'is', 'no', 'god', 'agnosticism', 'greek', \"'a'\", 'not', \"'gnostein\", \"'\", 'know', 'belief', 'that', 'it', 'is', 'not', 'possible', 'to', 'determine', 'if', 'there', 'is', 'a', 'god', 'no', 'agnosticism', 'as', 'you', 'have', 'here', 'defined', 'it', 'is', 'a', 'positive', 'belief', 'a', 'belief', 'that', 'it', 'is', 'not', 'possible', 'to', 'determine', 'the', 'existence', 'of', 'any', 'gods', \"that's\", 'a', 'belief', \"i'm\", 'inclined', 'to', 'reject', 'you', 'have', 'also', 'defined', 'atheism', 'here', 'as', 'a', 'positive', 'belief', 'that', 'there', 'is', 'no', 'god', 'a', 'fairly', 'large', 'number', 'of', 'atheists', 'on', 'alt', 'atheism', 'reject', 'this', 'definition', 'instead', 'holding', 'that', 'atheism', 'is', 'simply', 'the', 'absence', 'of', 'belief', 'in', 'a', 'god', 'michael', 'martin', 'in', 'atheism', 'a', 'philosophical', 'justification', 'distinguishes', 'strong', 'atheism', 'my', 'mistake', 'i', 'will', 'have', 'to', 'get', 'a', 'newer', 'dictionary', 'and', 'read', 'the', 'follow', 'up', 'line', 'larry', 'henling', 'lmh', 'shakes', 'caltech', 'edu']\n"
     ]
    }
   ],
   "source": [
    "print(train_data[0])"
   ]
  },
  {
   "cell_type": "code",
   "execution_count": 29,
   "id": "479d4891-d0ef-47c6-be99-1250fa829696",
   "metadata": {},
   "outputs": [],
   "source": [
    "# number of words in a document\n",
    "#print(len(train_data[1]))"
   ]
  },
  {
   "cell_type": "markdown",
   "id": "d867024d-ee92-4388-89c1-361821d8e815",
   "metadata": {},
   "source": [
    "##### now there is such a big reduntion in size of each document :))))"
   ]
  },
  {
   "cell_type": "code",
   "execution_count": 42,
   "id": "22ec5508-4b5c-48b6-ae49-c7c4cb43b0fe",
   "metadata": {},
   "outputs": [],
   "source": [
    "# Test_data\n",
    "directory = os.fsencode('20news-bydate-test')\n",
    "#print(directory)\n",
    "\n",
    "files = os.listdir(directory)\n",
    "files.sort()\n",
    "#print(files)"
   ]
  },
  {
   "cell_type": "code",
   "execution_count": 43,
   "id": "db219595-311a-46e4-b812-4b2172a851a7",
   "metadata": {},
   "outputs": [],
   "source": [
    "docs = [] # a list of all documents in training set\n",
    "output_test = [] # a list of vectors(matrix) encoding category of each document(class_lable of each document)\n",
    "docs_total_num = 0 #total number of document in the train_set\n",
    "vector = [0]*20\n",
    "index = -1\n",
    "for file in files:\n",
    "    docs_num = 0 #number of documents per file\n",
    "    #print(file)\n",
    "    index += 1\n",
    "    vector[index] = 1\n",
    "    \n",
    "    for doc in os.listdir(directory + b'/' + file):\n",
    "        address = directory + b'/' + file + b'/' + doc\n",
    "        with open(address.decode('utf-8'), 'r', errors = 'ignore') as document:\n",
    "            docs.append(document.read()) #producing the list of all documents!\n",
    "            output_test.append(vector.copy()) \n",
    "        docs_num += 1\n",
    "        docs_total_num += 1\n",
    "    #print(docs_num)\n",
    "    #print(vector)\n",
    "    vector[index] = 0\n",
    "#print(f\"total number of documents : {docs_total_num}\")\n",
    "#output_test\n",
    "#docs[0]"
   ]
  },
  {
   "cell_type": "code",
   "execution_count": 44,
   "id": "617d6600-e5bc-426e-ab4e-04bb65f8965c",
   "metadata": {},
   "outputs": [
    {
     "name": "stdout",
     "output_type": "stream",
     "text": [
      "7532\n"
     ]
    }
   ],
   "source": [
    "print(len(output_test))"
   ]
  },
  {
   "cell_type": "code",
   "execution_count": 16,
   "id": "ef93ea34-d3f2-4f38-babe-63685818d0ad",
   "metadata": {},
   "outputs": [
    {
     "name": "stdout",
     "output_type": "stream",
     "text": [
      "From: sandvik@newton.apple.com (Kent Sandvik) Subject: Re: Death Penalty (was Re: Political Atheists?) Organization: Cookamunga Tourist Bureau Lines: 23  In article <C5rLyz.4Mt@darkside.osrhe.uoknor.edu>, bil@okcforum.osrhe.edu (Bill Conner) wrote: >  > This is fascinating. Atheists argue for abortion, defend homosexuality > as a means of population control, insist that the only values are > biological and condemn war and capital punishment. According to > Benedikt, if something is contardictory, it cannot exist, which in > this case means atheists I suppose. > I would like to understand how an atheist can object to war (an > excellent means of controlling population growth), or to capital > punishment, I'm sorry but the logic escapes me. > And why just capital punishment, what is being questioned here, the > propriety of killing or of punishment? What is the basis of the > ecomplaint?  Bill, ever heard of secular humanism? Please check out what this stands for, and then revise your statements above.  Cheers, Kent  --- sandvik@newton.apple.com. ALink: KSAND -- Private activities on the net. \n"
     ]
    }
   ],
   "source": [
    "temp = []\n",
    "for text in docs:\n",
    "    text = text.replace('\\n',' ')\n",
    "    temp.append(text)\n",
    "\n",
    "print(temp[0])\n",
    "\n",
    "from tensorflow.keras.preprocessing import text\n",
    "docs2 = []\n",
    "for i in temp:\n",
    "    docs2.append(text.text_to_word_sequence(i))\n",
    "\n",
    "test_data = docs2\n"
   ]
  },
  {
   "cell_type": "code",
   "execution_count": 34,
   "id": "0ae30663-5b07-4944-b7dc-a8f733481376",
   "metadata": {},
   "outputs": [
    {
     "name": "stdout",
     "output_type": "stream",
     "text": [
      "['from', 'mayne', 'pipe', 'cs', 'fsu', 'edu', 'william', 'mayne', 'subject', 're', 'alleged', 'deathbed', 'conversions', 'was', 'asimov', 'stamp', 'organization', 'florida', 'state', 'university', 'computer', 'science', 'department', 'reply', 'to', 'mayne', 'cs', 'fsu', 'edu', 'lines', '32', 'in', 'article', 'sheafferc63zt0', 'brs', 'netcom', 'com', 'sheaffer', 'netcom', 'com', 'robert', 'sheaffer', 'writes', 'it', 'had', 'to', 'happen', 'the', 'old', 'allegation', 'of', 'the', 'deathbed', 'conversion', 'of', 'the', 'noted', 'unbeliever', 'other', 'examples', 'what', 'all', 'of', 'these', 'deathbed', 'conversion', 'claims', 'have', 'in', 'common', 'is', 'that', 'they', 'are', 'utterly', 'unsubstantiated', 'and', 'almost', 'certainly', 'untrue', 'i', 'would', 'not', 'be', 'too', 'quick', 'to', 'say', 'that', 'they', 'are', 'almost', 'certainly', 'untrue', 'even', 'strong', 'minded', 'people', 'may', 'fall', 'back', 'on', 'childhood', 'indoctrination', 'grasp', 'at', 'straws', 'or', 'do', 'other', 'strange', 'things', 'when', 'faced', 'with', 'extreme', 'suffering', 'not', 'to', 'mention', 'physiological', 'problems', 'which', 'may', 'lead', 'to', 'diminished', 'mental', 'capacity', 'at', 'the', 'risk', 'of', 'restarting', 'an', 'old', 'argument', 'and', 'accusations', 'of', 'appeal', 'to', 'authority', 'i', 'remind', 'readers', 'of', 'what', 'i', 'posted', 'a', 'while', 'back', 'as', 'a', 'kind', 'of', 'obituary', 'for', 'the', 'late', 'atheist', 'dr', 'albert', 'sabin', 'in', 'an', 'old', 'interview', 'rebroadcast', 'on', 'public', 'radio', 'just', 'after', 'his', 'death', 'he', 'told', 'about', 'a', 'time', 'a', 'few', 'years', 'before', 'when', 'he', 'was', 'stricken', 'with', 'a', 'very', 'serious', 'illness', 'he', 'admitted', 'to', 'having', 'cried', 'out', 'to', 'god', 'while', 'critically', 'ill', 'and', 'on', 'a', 'respirator', 'as', 'it', 'turned', 'out', 'he', 'recovered', 'and', 'lived', 'several', 'more', 'years', 'after', 'his', 'recovery', 'he', 'attributed', 'this', 'to', 'early', 'indoctrination', \"don't\", 'say', 'it', \"couldn't\", 'happen', 'to', 'you', 'or', 'that', 'it', \"hasn't\", 'happened', 'to', 'others', 'even', 'if', 'you', 'are', 'one', 'of', 'the', 'few', 'people', 'who', 'have', 'experienced', 'things', 'like', 'this', 'people', 'are', 'different', 'i', 'admire', 'dr', 'sabin', 'for', 'admitting', 'his', 'human', 'weakness', 'in', 'that', 'instance', 'i', 'would', 'not', 'think', 'less', 'of', 'asimov', 'for', 'similar', 'weakness', 'nevertheless', 'i', 'agree', 'that', 'these', 'reports', 'are', 'unsubstantiated', 'and', 'may', 'well', 'be', 'untrue', 'in', 'any', 'case', 'they', 'are', 'not', 'evidence', 'for', 'anything', 'besides', 'the', 'power', 'of', 'early', 'indoctrination', 'and', 'human', 'frailty', 'bill', 'mayne']\n"
     ]
    }
   ],
   "source": [
    "print(test_data[2])"
   ]
  },
  {
   "cell_type": "markdown",
   "id": "6712cecb-f2aa-4cbc-af51-45d34cdf8abe",
   "metadata": {},
   "source": [
    "## Word2vec"
   ]
  },
  {
   "cell_type": "code",
   "execution_count": 17,
   "id": "41d79864-99fa-4691-8f01-59f332162ac4",
   "metadata": {},
   "outputs": [],
   "source": [
    "# Python program to generate word vectors using Word2vec\n",
    "import warnings\n",
    "warnings.filterwarnings(action = 'ignore')\n",
    "\n",
    "data = train_data + test_data\n",
    "#print(len(data))"
   ]
  },
  {
   "cell_type": "code",
   "execution_count": 21,
   "id": "2d1cf75d-067b-4367-b976-bed76e966eb3",
   "metadata": {},
   "outputs": [],
   "source": [
    "import gensim\n",
    "from gensim.models import Word2Vec\n",
    "model = Word2Vec(data, min_count = 5, vector_size = 200, sg = 1, epochs = 10)"
   ]
  },
  {
   "cell_type": "code",
   "execution_count": 22,
   "id": "7034ed70-069b-4a52-80b6-861641748b79",
   "metadata": {},
   "outputs": [
    {
     "name": "stdout",
     "output_type": "stream",
     "text": [
      "Word2Vec<vocab=43361, vector_size=200, alpha=0.025>\n"
     ]
    }
   ],
   "source": [
    "print(model)"
   ]
  },
  {
   "cell_type": "code",
   "execution_count": 23,
   "id": "20906da0-89ab-4e84-bb6b-f2975a37ec5d",
   "metadata": {},
   "outputs": [
    {
     "data": {
      "text/plain": [
       "<gensim.models.keyedvectors.KeyedVectors at 0x7fcbb2a80750>"
      ]
     },
     "execution_count": 23,
     "metadata": {},
     "output_type": "execute_result"
    }
   ],
   "source": [
    "model.wv"
   ]
  },
  {
   "cell_type": "code",
   "execution_count": 24,
   "id": "c62d249a-c3c7-4afd-9c8d-f3fceee72cc0",
   "metadata": {},
   "outputs": [],
   "source": [
    "#print(model.wv.key_to_index)\n"
   ]
  },
  {
   "cell_type": "code",
   "execution_count": 25,
   "id": "70fde06e-82bf-4246-8d5f-06a194bb1a54",
   "metadata": {},
   "outputs": [],
   "source": [
    "from gensim.models import KeyedVectors\n",
    "\n",
    "model.wv.save(\"vectors.kv\")\n",
    "wv = KeyedVectors.load('vectors.kv', mmap = 'r')\n",
    "\n",
    "#print(k)"
   ]
  },
  {
   "cell_type": "code",
   "execution_count": 26,
   "id": "fe7dd29e-6833-4a67-be16-ca4578d1a077",
   "metadata": {},
   "outputs": [
    {
     "data": {
      "text/plain": [
       "[('nebraska', 0.5942196846008301),\n",
       " ('madeline', 0.5839873552322388),\n",
       " ('univ', 0.5808973908424377),\n",
       " ('kentucky', 0.5774267315864563),\n",
       " ('zilfi', 0.576108455657959),\n",
       " ('notre', 0.5729460716247559)]"
      ]
     },
     "execution_count": 26,
     "metadata": {},
     "output_type": "execute_result"
    }
   ],
   "source": [
    "wv.most_similar(\"university\", topn = 6)"
   ]
  },
  {
   "cell_type": "code",
   "execution_count": 27,
   "id": "f8aa9223-3205-4cea-9276-09d40c4acc7c",
   "metadata": {},
   "outputs": [
    {
     "data": {
      "text/plain": [
       "[('nebraska', 0.5942196846008301),\n",
       " ('madeline', 0.5839873552322388),\n",
       " ('univ', 0.5808973908424377),\n",
       " ('kentucky', 0.5774267315864563),\n",
       " ('zilfi', 0.576108455657959),\n",
       " ('notre', 0.5729460716247559)]"
      ]
     },
     "execution_count": 27,
     "metadata": {},
     "output_type": "execute_result"
    }
   ],
   "source": [
    "model.wv.most_similar(\"university\", topn = 6)"
   ]
  },
  {
   "cell_type": "markdown",
   "id": "90065766-cdb7-4819-bfe5-013b42f0b1b0",
   "metadata": {},
   "source": [
    "fucking cool :)))))"
   ]
  },
  {
   "cell_type": "markdown",
   "id": "325c8a2b-657c-4b8a-aa4c-899fd93e8017",
   "metadata": {},
   "source": [
    "### Filtering data and creating final data files"
   ]
  },
  {
   "cell_type": "code",
   "execution_count": 40,
   "id": "ee6147c4-720e-4c9e-86a2-b59a3a3c63c8",
   "metadata": {},
   "outputs": [
    {
     "name": "stdout",
     "output_type": "stream",
     "text": [
      "1309\n",
      "['zaphod', 'mps', 'ohio', 'state', 'edu', 'usc', 'elroy', 'jpl', 'nasa', 'gov', 'nntp', 'server', 'caltech', 'edu', 'juliet', 'caltech', 'edu', 'lmh', 'subject', 're', 'americans', 'and', 'evolution', 'from', 'lmh', 'juliet', 'caltech', 'edu', 'henling', 'lawrence', 'm', 'distribution', 'world', 'local', 'organization', 'california', 'institute', 'of', 'technology', 'nntp', 'posting', 'host', 'juliet', 'caltech', 'edu', 'news', 'software', 'vax', 'vms', 'vnews', '1', '41', 'lines', '18', 'in', 'article', 'skyblu', 'ccit', 'arizona', 'edu', 'lippard', 'skyblu', 'ccit', 'arizona', 'edu', 'james', 'j', 'lippard', 'writes', 'in', 'article', 'juliet', 'caltech', 'edu', 'lmh', 'juliet', 'caltech', 'edu', 'henling', 'lawrence', 'm', 'writes', 'atheism', 'greek', \"'a'\", 'not', 'god', 'belief', 'that', 'there', 'is', 'no', 'god', 'agnosticism', 'greek', \"'a'\", 'not', \"'\", 'know', 'belief', 'that', 'it', 'is', 'not', 'possible', 'to', 'determine', 'if', 'there', 'is', 'a', 'god', 'no', 'agnosticism', 'as', 'you', 'have', 'here', 'defined', 'it', 'is', 'a', 'positive', 'belief', 'a', 'belief', 'that', 'it', 'is', 'not', 'possible', 'to', 'determine', 'the', 'existence', 'of', 'any', 'gods', \"that's\", 'a', 'belief', \"i'm\", 'inclined', 'to', 'reject', 'you', 'have', 'also', 'defined', 'atheism', 'here', 'as', 'a', 'positive', 'belief', 'that', 'there', 'is', 'no', 'god', 'a', 'fairly', 'large', 'number', 'of', 'atheists', 'on', 'alt', 'atheism', 'reject', 'this', 'definition', 'instead', 'holding', 'that', 'atheism', 'is', 'simply', 'the', 'absence', 'of', 'belief', 'in', 'a', 'god', 'michael', 'martin', 'in', 'atheism', 'a', 'philosophical', 'justification', 'distinguishes', 'strong', 'atheism', 'my', 'mistake', 'i', 'will', 'have', 'to', 'get', 'a', 'newer', 'dictionary', 'and', 'read', 'the', 'follow', 'up', 'line', 'larry', 'henling', 'lmh', 'shakes', 'caltech', 'edu']\n",
      "11314\n"
     ]
    }
   ],
   "source": [
    "# Training/Testing data cleaning to filter out words not in vocabulary but present in the document\n",
    "m = []\n",
    "cou = 0\n",
    "for i in range(len(train_data)):\n",
    "    #print(i)\n",
    "    cou += 1\n",
    "    l = filter(lambda x: x in model.wv.key_to_index , train_data[i])\n",
    "    k = []\n",
    "    count = 0\n",
    "    for i in l:\n",
    "        count += 1\n",
    "        k.append(i)\n",
    "    m.append(k.copy())    \n",
    "    #print (count)\n",
    "print(len(k))\n",
    "print(m[0])\n",
    "\n",
    "train_data = m\n",
    "print(len(train_data))"
   ]
  },
  {
   "cell_type": "code",
   "execution_count": 45,
   "id": "bef1853c-f0ed-4e76-af36-3392d8672c2b",
   "metadata": {},
   "outputs": [
    {
     "name": "stdout",
     "output_type": "stream",
     "text": [
      "['from', 'sandvik', 'newton', 'apple', 'com', 'kent', 'sandvik', 'subject', 're', 'death', 'penalty', 'was', 're', 'political', 'atheists', 'organization', 'cookamunga', 'tourist', 'bureau', 'lines', '23', 'in', 'article', '4mt', 'darkside', 'osrhe', 'uoknor', 'edu', 'bil', 'okcforum', 'osrhe', 'edu', 'bill', 'conner', 'wrote', 'this', 'is', 'fascinating', 'atheists', 'argue', 'for', 'abortion', 'defend', 'homosexuality', 'as', 'a', 'means', 'of', 'population', 'control', 'insist', 'that', 'the', 'only', 'values', 'are', 'biological', 'and', 'condemn', 'war', 'and', 'capital', 'punishment', 'according', 'to', 'benedikt', 'if', 'something', 'is', 'contardictory', 'it', 'cannot', 'exist', 'which', 'in', 'this', 'case', 'means', 'atheists', 'i', 'suppose', 'i', 'would', 'like', 'to', 'understand', 'how', 'an', 'atheist', 'can', 'object', 'to', 'war', 'an', 'excellent', 'means', 'of', 'controlling', 'population', 'growth', 'or', 'to', 'capital', 'punishment', \"i'm\", 'sorry', 'but', 'the', 'logic', 'escapes', 'me', 'and', 'why', 'just', 'capital', 'punishment', 'what', 'is', 'being', 'questioned', 'here', 'the', 'propriety', 'of', 'killing', 'or', 'of', 'punishment', 'what', 'is', 'the', 'basis', 'of', 'the', 'bill', 'ever', 'heard', 'of', 'secular', 'humanism', 'please', 'check', 'out', 'what', 'this', 'stands', 'for', 'and', 'then', 'revise', 'your', 'statements', 'above', 'cheers', 'kent', 'sandvik', 'newton', 'apple', 'com', 'alink', 'ksand', 'private', 'activities', 'on', 'the', 'net']\n",
      "7532\n"
     ]
    }
   ],
   "source": [
    "m = []\n",
    "for i in range(len(test_data)):\n",
    "    l = filter(lambda x: x in model.wv.key_to_index , test_data[i])\n",
    "    k = []\n",
    "    count = 0\n",
    "    for i in l:\n",
    "        count += 1\n",
    "        k.append(i)\n",
    "    m.append(k.copy())  \n",
    "test_data = m\n",
    "print(test_data[0])\n",
    "print(len(test_data))"
   ]
  },
  {
   "cell_type": "code",
   "execution_count": 49,
   "id": "a55310d6-9ba8-4c85-8a76-78eba5043952",
   "metadata": {},
   "outputs": [],
   "source": [
    "# Creating final pickel files\n",
    "# To save an object in a file\n",
    "import pickle\n",
    "with open(\"train_data.p\", \"wb\") as fp:   #Pickling\n",
    "     pickle.dump(train_data, fp)\n",
    "with open(\"test_data.p\", \"wb\") as fp:   #Pickling\n",
    "     pickle.dump(test_data, fp)"
   ]
  },
  {
   "cell_type": "code",
   "execution_count": 48,
   "id": "e2c4f61a-3120-4cd7-bb42-93d4f356527f",
   "metadata": {},
   "outputs": [],
   "source": [
    "import pickle\n",
    "with open(\"desired_train_data.p\", \"wb\") as fp:   #Pickling\n",
    "     pickle.dump(output_train, fp)\n",
    "with open(\"desired_test_data.p\", \"wb\") as fp:   #Pickling\n",
    "     pickle.dump(output_test, fp)"
   ]
  }
 ],
 "metadata": {
  "kernelspec": {
   "display_name": "Python 3 (ipykernel)",
   "language": "python",
   "name": "python3"
  },
  "language_info": {
   "codemirror_mode": {
    "name": "ipython",
    "version": 3
   },
   "file_extension": ".py",
   "mimetype": "text/x-python",
   "name": "python",
   "nbconvert_exporter": "python",
   "pygments_lexer": "ipython3",
   "version": "3.11.3"
  }
 },
 "nbformat": 4,
 "nbformat_minor": 5
}
