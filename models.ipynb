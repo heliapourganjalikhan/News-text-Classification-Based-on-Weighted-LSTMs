{
 "cells": [
  {
   "cell_type": "markdown",
   "id": "bd7fc924-2fce-4cb4-9e87-731c703ffd57",
   "metadata": {},
   "source": [
    "## Weighted RNN for News_Text Classification"
   ]
  },
  {
   "cell_type": "markdown",
   "id": "c1d4f3a1-5453-4d38-adc3-0f4ea4ed3bc4",
   "metadata": {},
   "source": [
    "### Importing Requured Libraries"
   ]
  },
  {
   "cell_type": "code",
   "execution_count": 12,
   "id": "1f76583d-8171-4498-b8df-1cb9ee20651a",
   "metadata": {},
   "outputs": [],
   "source": [
    "import os\n",
    "import sys\n",
    "import pickle\n",
    "import keras\n",
    "import numpy as np\n",
    "import pandas as pd\n",
    "import numpy\n",
    "import matplotlib as plt\n",
    "%matplotlib inline\n",
    "\n",
    "import gensim \n",
    "from gensim.models import Word2Vec, KeyedVectors\n",
    "from gensim.test.utils import common_texts, get_tmpfile\n",
    "\n",
    "from numpy import loadtxt\n",
    "from tensorflow.keras.models import load_model\n",
    "from tensorflow.keras.preprocessing import text\n",
    "from tensorflow.keras.preprocessing.text import Tokenizer\n",
    "from tensorflow.keras.layers import  Dense, Input, LSTM, Embedding, Dropout, Activation ,Permute ,SimpleRNN , Bidirectional ,TimeDistributed, Conv1D ,Activation, Flatten\n",
    "from tensorflow.keras.models import Model\n",
    "from tensorflow.keras.layers import BatchNormalization\n",
    "from tensorflow.keras.callbacks import EarlyStopping, ModelCheckpoint\n",
    "from tensorflow.keras import Sequential\n",
    "from tensorflow.keras import regularizers\n",
    "from tensorflow.keras.utils import to_categorical\n",
    "from sklearn.metrics import accuracy_score,precision_score,recall_score,f1_score\n",
    "import sklearn.metrics as metrics\n"
   ]
  },
  {
   "cell_type": "markdown",
   "id": "3c5bf666-94ae-49f8-bc6c-748e918e56f2",
   "metadata": {},
   "source": [
    "### Loading Test/Train Data"
   ]
  },
  {
   "cell_type": "code",
   "execution_count": 2,
   "id": "34903e59-5806-4e37-aac4-b19aff68b29a",
   "metadata": {},
   "outputs": [],
   "source": [
    "# Loading traning and Testing data\n",
    "\n",
    "# To read from pickled file\n",
    "with open('train_data.p', 'rb') as fp:\n",
    "    train_data = pickle.load(fp)\n",
    "with open('desired_train_data.p', 'rb') as fp:\n",
    "    train_y = pickle.load(fp)\n",
    "with open('test_data.p', 'rb') as fp:\n",
    "    test_data = pickle.load(fp)\n",
    "with open('desired_test_data.p', 'rb') as fp:\n",
    "    test_y = pickle.load(fp)"
   ]
  },
  {
   "cell_type": "code",
   "execution_count": 3,
   "id": "a55df0cf-d912-4212-96a3-cc728ff3a655",
   "metadata": {},
   "outputs": [
    {
     "name": "stdout",
     "output_type": "stream",
     "text": [
      "11314\n",
      "11314\n",
      "7532\n",
      "7532\n"
     ]
    }
   ],
   "source": [
    "print(len(train_data))\n",
    "print(len(train_y))\n",
    "print(len(test_data))\n",
    "print(len(test_y))\n"
   ]
  },
  {
   "cell_type": "code",
   "execution_count": 4,
   "id": "43a38f41-1187-4601-8cd0-9824a2bcc2ce",
   "metadata": {},
   "outputs": [
    {
     "name": "stdout",
     "output_type": "stream",
     "text": [
      "KeyedVectors<vector_size=200, 43361 keys>\n"
     ]
    }
   ],
   "source": [
    "\n",
    "wv = KeyedVectors.load('vectors.kv', mmap='r')\n",
    "#print(wv.key_to_index)\n",
    "#print(wv.index_to_key)\n",
    "print(wv)"
   ]
  },
  {
   "cell_type": "code",
   "execution_count": 5,
   "id": "f6bd18c3-aeac-4853-8fd0-1fbd8ad10009",
   "metadata": {},
   "outputs": [
    {
     "name": "stdout",
     "output_type": "stream",
     "text": [
      "200\n"
     ]
    }
   ],
   "source": [
    "print(len(wv['the']))\n",
    "#print(wv['the'])"
   ]
  },
  {
   "cell_type": "markdown",
   "id": "30395460-d742-44a8-9171-f2a16164cf2c",
   "metadata": {},
   "source": [
    "## Implementation of W_RNN"
   ]
  },
  {
   "cell_type": "markdown",
   "id": "095c3d0b-5b71-48f9-8824-cf37f1e668f6",
   "metadata": {},
   "source": [
    "### a)Text length selection"
   ]
  },
  {
   "cell_type": "code",
   "execution_count": 6,
   "id": "7a386b77-ac1e-4790-8b66-da481d7e8d2e",
   "metadata": {},
   "outputs": [
    {
     "name": "stdout",
     "output_type": "stream",
     "text": [
      "18846\n",
      "84.89334606813117\n"
     ]
    }
   ],
   "source": [
    "DLs = [] # length of each document\n",
    "docs = train_data + test_data\n",
    "#print(len(docs))\n",
    "for i in docs:\n",
    "    count = 0\n",
    "    for j in i:\n",
    "        count += 1\n",
    "    DLs.append(count)\n",
    "    \n",
    "#print(len(DLs))\n",
    "#print(DLs[0])\n",
    "\n",
    "DNum = len(docs)\n",
    "print(DNum)\n",
    "DLs.sort()\n",
    "#print(DLs)\n",
    "\n",
    "DNum_2 = 0\n",
    "SL = 400\n",
    "for i in DLs:\n",
    "    if i < SL :\n",
    "       DNum_2 += 1 \n",
    "\n",
    "theta = (DNum_2 / DNum)*100\n",
    "print(theta)"
   ]
  },
  {
   "cell_type": "code",
   "execution_count": 7,
   "id": "ffdfb5ea-5f1f-43b9-8dd8-28aec17bd43d",
   "metadata": {},
   "outputs": [],
   "source": [
    "#Truncation and dealing with text smaller than SL\n",
    "\n",
    "#Train data\n",
    "data_train = []\n",
    "zero_wv = [0]*200\n",
    "for doc in train_data:\n",
    "    doc_wv = []\n",
    "    count = 0\n",
    "    for j in doc:\n",
    "        count += 1\n",
    "        doc_wv.append(wv[j])\n",
    "        if count == 400:\n",
    "            break\n",
    "    if (len(doc_wv) != 400):\n",
    "        while (len(doc_wv) != 400):\n",
    "            doc_wv.append(zero_wv)\n",
    "    data_train.append(doc_wv)\n",
    "\n",
    "#Test data\n",
    "data_test = []\n",
    "zero_wv = [0]*200\n",
    "for doc in test_data:\n",
    "    doc_wv = []\n",
    "    count = 0\n",
    "    for j in doc:\n",
    "        count += 1\n",
    "        doc_wv.append(wv[j])\n",
    "        if count == 400:\n",
    "            break\n",
    "    if (len(doc_wv) != 400):\n",
    "        while (len(doc_wv) != 400):\n",
    "            doc_wv.append(zero_wv)\n",
    "    data_test.append(doc_wv)\n"
   ]
  },
  {
   "cell_type": "code",
   "execution_count": 8,
   "id": "6378541e-a037-4fb8-82f5-80c223e56ce1",
   "metadata": {},
   "outputs": [
    {
     "name": "stdout",
     "output_type": "stream",
     "text": [
      "11314 7532\n",
      "11314 7532\n"
     ]
    }
   ],
   "source": [
    "print(len(data_train), len(data_test))\n",
    "print(len(train_y), len(test_y))\n"
   ]
  },
  {
   "cell_type": "code",
   "execution_count": 9,
   "id": "3823a3f0-bb32-4353-8e96-baa583f4d9d1",
   "metadata": {},
   "outputs": [
    {
     "name": "stdout",
     "output_type": "stream",
     "text": [
      "11264\n",
      "7424\n"
     ]
    }
   ],
   "source": [
    "#Finally\n",
    "\n",
    "#To create required input for the Keras Model\n",
    "truncate = len(data_train)-(len(data_train)%128)\n",
    "print(truncate)\n",
    "data_train = data_train[:truncate]\n",
    "train_y = train_y[:truncate]\n",
    "\n",
    "truncate = len(data_test)-(len(data_test)%128)\n",
    "print(truncate)\n",
    "\n",
    "data_test = data_test[:truncate]\n",
    "test_y = test_y[:truncate]"
   ]
  },
  {
   "cell_type": "markdown",
   "id": "688a2a89-3a47-4409-9566-20bcbb0e9f97",
   "metadata": {},
   "source": [
    "###### list = [1,1,2,4,5,6,7,5,6,7,3,5,7,2,2,4,6]\n",
    "###### print(len(list))\n",
    "###### t = 10\n",
    "###### list = list[4:t]\n",
    "###### print(list)"
   ]
  },
  {
   "cell_type": "code",
   "execution_count": 10,
   "id": "17adff1b-d233-4317-bb7f-17265cb789a6",
   "metadata": {},
   "outputs": [],
   "source": [
    "data_train = np.array(data_train)\n",
    "y_train = np.array(train_y)\n",
    "data_test = np.array(data_test)\n",
    "y_test = np.array(test_y)\n",
    "\n"
   ]
  },
  {
   "cell_type": "code",
   "execution_count": 11,
   "id": "6bcbc08f-1e3a-42af-9bfc-31d0d9da0772",
   "metadata": {},
   "outputs": [
    {
     "name": "stdout",
     "output_type": "stream",
     "text": [
      "(11264, 400, 200) (7424, 400, 200) (11264, 20) (7424, 20)\n"
     ]
    }
   ],
   "source": [
    "print(data_train.shape, data_test.shape , y_train.shape, y_test.shape)\n"
   ]
  },
  {
   "cell_type": "code",
   "execution_count": 12,
   "id": "d22a896a-ee85-4ecd-88fb-4bcba59adcde",
   "metadata": {},
   "outputs": [],
   "source": [
    "# Debugging # y_test is one hot encoded for 20 categories\n",
    "for i in y_train:\n",
    "    if list(i) == [0]*20:\n",
    "        print('Wrong')\n"
   ]
  },
  {
   "cell_type": "code",
   "execution_count": 13,
   "id": "a34196f2-ebe7-4784-ac99-e66446fd5355",
   "metadata": {},
   "outputs": [
    {
     "data": {
      "text/plain": [
       "'\\nimport copy\\nbackup_data_train = copy.deepcopy(data_train)\\nbackup_y_train = copy.deepcopy(y_train)\\nbackup_data_test = copy.deepcopy(data_test)\\nbackup_y_test = copy.deepcopy(y_test)\\n'"
      ]
     },
     "execution_count": 13,
     "metadata": {},
     "output_type": "execute_result"
    }
   ],
   "source": [
    "# Backup\n",
    "'''\n",
    "import copy\n",
    "backup_data_train = copy.deepcopy(data_train)\n",
    "backup_y_train = copy.deepcopy(y_train)\n",
    "backup_data_test = copy.deepcopy(data_test)\n",
    "backup_y_test = copy.deepcopy(y_test)\n",
    "'''"
   ]
  },
  {
   "cell_type": "code",
   "execution_count": 14,
   "id": "d6b0be73-7569-4245-bfab-00536b3c4ecf",
   "metadata": {},
   "outputs": [],
   "source": [
    "# Shuffle two nimpy arrays together\n",
    "#arr1 = np.array([[1, 2], [3, 4], [5, 6]])\n",
    "#arr2 = np.array([7, 8, 9])\n",
    "\n",
    "def shuffle_in_unison(a,b): #Inplace\n",
    "    #only shuffles along the first axis of a multi-dimensional array.\n",
    "    rng_state = np.random.get_state()\n",
    "    np.random.shuffle(a)\n",
    "    np.random.set_state(rng_state)\n",
    "    np.random.shuffle(b) \n",
    "    return a,b\n",
    "\n",
    "def shuffle_in_unison1(a,b): # Using Temp Extra Memory\n",
    "    assert len(a) == len(b)\n",
    "    shuffled_a = np.empty(a.shape, dtype=a.dtype)\n",
    "    shuffled_b = np.empty(b.shape, dtype=b.dtype)\n",
    "    permutation = np.random.permutation(len(a))\n",
    "    for old_index, new_index in enumerate(permutation):\n",
    "        shuffled_a[new_index] = a[old_index]\n",
    "        shuffled_b[new_index] = b[old_index]\n",
    "    return shuffled_a, shuffled_b"
   ]
  },
  {
   "cell_type": "code",
   "execution_count": 15,
   "id": "5706ab08-1a3b-48cd-bda3-23a40b08d530",
   "metadata": {},
   "outputs": [
    {
     "name": "stdout",
     "output_type": "stream",
     "text": [
      "11264 11264 7424 7424\n"
     ]
    }
   ],
   "source": [
    "print(len(data_train),len(y_train),len(y_test),len(data_test))"
   ]
  },
  {
   "cell_type": "code",
   "execution_count": 16,
   "id": "8b98ebce-3345-493f-8a3a-d93e41d5cbde",
   "metadata": {},
   "outputs": [],
   "source": [
    "# Final Shuffled Arrays\n",
    "data_train,y_train = shuffle_in_unison(data_train,y_train)\n",
    "data_test, y_test = shuffle_in_unison(data_test,y_test)"
   ]
  },
  {
   "cell_type": "code",
   "execution_count": 17,
   "id": "4169ee74-3d00-43b6-b018-253f1b3cbc41",
   "metadata": {},
   "outputs": [],
   "source": [
    "# We have trianing and testing data which can be fed to the network now"
   ]
  },
  {
   "cell_type": "markdown",
   "id": "ef4b9a2f-18b9-433c-8faf-df1e0c3bf763",
   "metadata": {},
   "source": [
    "## Helper Functions"
   ]
  },
  {
   "cell_type": "code",
   "execution_count": 18,
   "id": "0b67a1b1-f9f0-4351-917c-86cd8556a9ca",
   "metadata": {},
   "outputs": [],
   "source": [
    "# Saving a keras model\n",
    "from numpy import loadtxt\n",
    "# model is name of the model to be save , file_name is file with which to save\n",
    "def mysave(model,file_name): # in file_name include .h5\n",
    "    model.save(file_name)\n"
   ]
  },
  {
   "cell_type": "code",
   "execution_count": 19,
   "id": "3e004599-e822-4d6e-a9e1-be7c2daeefeb",
   "metadata": {},
   "outputs": [],
   "source": [
    "# loading a saved keras model\n",
    "def myload(file_name): # in file_name include .h5\n",
    "    # load model\n",
    "    model = load_model(file_name)\n",
    "    # summarize model.\n",
    "    model.summary()\n",
    "    return model"
   ]
  },
  {
   "cell_type": "markdown",
   "id": "37a056d8-4f9b-45f0-862e-60fa6d93c695",
   "metadata": {},
   "source": [
    "## Models"
   ]
  },
  {
   "cell_type": "markdown",
   "id": "b6e9e7a0-c356-4e1e-a16b-50c83cb7712e",
   "metadata": {},
   "source": [
    "### SimpleRNN(Reference Model-I)"
   ]
  },
  {
   "cell_type": "code",
   "execution_count": 20,
   "id": "55275f62-6a72-469d-80ea-578116fdc52c",
   "metadata": {},
   "outputs": [],
   "source": [
    "# Constants\n",
    "batch_Size = 128\n",
    "adam = keras.optimizers.Adam(learning_rate=0.01)\n",
    "early = EarlyStopping(monitor = 'val_categorical_accuracy', verbose=1, mode = 'max', patience = 3)"
   ]
  },
  {
   "cell_type": "code",
   "execution_count": null,
   "id": "06b56448-cebc-4405-a31c-81aee71954cc",
   "metadata": {},
   "outputs": [
    {
     "name": "stderr",
     "output_type": "stream",
     "text": [
      "/home/helia/anaconda3/lib/python3.11/site-packages/keras/src/layers/rnn/rnn.py:205: UserWarning: Do not pass an `input_shape`/`input_dim` argument to a layer. When using Sequential models, prefer using an `Input(shape)` object as the first layer in the model instead.\n",
      "  super().__init__(**kwargs)\n"
     ]
    }
   ],
   "source": [
    "## Network architecture\n",
    "#model name - modelrnn, history name - history_rnn\n",
    "modelrnn = Sequential()\n",
    "modelrnn.add(LSTM(128, input_shape=(400,200), dropout=0.2,recurrent_dropout=0.2,return_sequences = False))\n",
    "modelrnn.add(Dense(128,activation='relu'))\n",
    "#modelrnn.add(Dense(128,activation='relu'))\n",
    "modelrnn.add(Dense(20,activation='softmax'))\n",
    "modelrnn.compile(loss='categorical_crossentropy', optimizer=adam, metrics=[keras.metrics.categorical_accuracy])\n",
    "## Fit the model\n",
    "history_rnn = modelrnn.fit(data_train, y_train, validation_split=0.01, epochs=10 ,batch_size=batch_Size)\n",
    "modelrnn.summary()"
   ]
  }
 ],
 "metadata": {
  "kernelspec": {
   "display_name": "Python 3 (ipykernel)",
   "language": "python",
   "name": "python3"
  },
  "language_info": {
   "codemirror_mode": {
    "name": "ipython",
    "version": 3
   },
   "file_extension": ".py",
   "mimetype": "text/x-python",
   "name": "python",
   "nbconvert_exporter": "python",
   "pygments_lexer": "ipython3",
   "version": "3.11.3"
  }
 },
 "nbformat": 4,
 "nbformat_minor": 5
}
